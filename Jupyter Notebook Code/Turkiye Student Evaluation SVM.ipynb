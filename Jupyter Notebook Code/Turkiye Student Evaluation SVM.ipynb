{
 "cells": [
  {
   "cell_type": "code",
   "execution_count": 1,
   "id": "9421c01e",
   "metadata": {},
   "outputs": [],
   "source": [
    "import pandas as pd\n",
    "import numpy as np\n",
    "from sklearn.model_selection import train_test_split\n",
    "from sklearn.metrics import accuracy_score\n",
    "from sklearn.preprocessing import StandardScaler\n",
    "from sklearn.metrics import confusion_matrix\n",
    "from sklearn.model_selection import GridSearchCV\n",
    "from sklearn.svm import SVC"
   ]
  },
  {
   "cell_type": "code",
   "execution_count": 2,
   "id": "5b382675",
   "metadata": {},
   "outputs": [
    {
     "name": "stdout",
     "output_type": "stream",
     "text": [
      "3    1774\n",
      "1    1620\n",
      "4    1225\n",
      "5     652\n",
      "2     549\n",
      "Name: difficulty, dtype: int64\n"
     ]
    },
    {
     "data": {
      "text/plain": [
       "1    3651\n",
       "0    2169\n",
       "Name: difficulty, dtype: int64"
      ]
     },
     "execution_count": 2,
     "metadata": {},
     "output_type": "execute_result"
    }
   ],
   "source": [
    "url = \"https://raw.githubusercontent.com/maxxxxc/SIR-Summer-2023/main/dataset/turkiye-student-evaluation_generic.csv\"\n",
    "df = pd.read_csv(url)\n",
    "\n",
    "X = df.drop(\"difficulty\", axis=1)\n",
    "y = df[\"difficulty\"]\n",
    "\n",
    "X = X.drop(\"instr\", axis=1)\n",
    "X = X.drop(\"class\", axis=1)\n",
    "X = X.drop(\"nb.repeat\", axis=1)\n",
    "X = X.drop(\"attendance\", axis=1)\n",
    "\n",
    "print(y.value_counts())\n",
    "y = y.replace({2 : 0, 1 : 0, 3: 1, 4 : 1, 5 : 1})\n",
    "y.value_counts()"
   ]
  },
  {
   "cell_type": "code",
   "execution_count": 3,
   "id": "7ad36cc1",
   "metadata": {},
   "outputs": [],
   "source": [
    "#divide"
   ]
  },
  {
   "cell_type": "code",
   "execution_count": 4,
   "id": "8b00dd6a",
   "metadata": {},
   "outputs": [],
   "source": [
    "X_train, X_test, y_train, y_test = train_test_split(X, y, test_size=0.4, random_state=42)"
   ]
  },
  {
   "cell_type": "code",
   "execution_count": 5,
   "id": "76e9aa29",
   "metadata": {},
   "outputs": [],
   "source": [
    "scaler = StandardScaler()\n",
    "X_train_scaled = scaler.fit_transform(X_train)\n",
    "X_test_scaled = scaler.transform(X_test)"
   ]
  },
  {
   "cell_type": "code",
   "execution_count": 6,
   "id": "8b2271e1",
   "metadata": {},
   "outputs": [],
   "source": [
    "#param_grid = {'C': [0.1, 1, 10], 'gamma': [0.1, 1, 10]}\n",
    "#svm = SVC(kernel='rbf')\n",
    "\n",
    "#grid_search = GridSearchCV(svm, param_grid, cv=5)\n",
    "#grid_search.fit(X_train_scaled, y_train)\n",
    "\n",
    "#best_params = grid_search.best_params_\n",
    "#best_C = best_params['C']\n",
    "#best_gamma = best_params['gamma']\n",
    "\n",
    "best_C = 1\n",
    "best_gamma = 1\n",
    "\n",
    "#Fit the SVM with the best parameters:\n",
    "svm = SVC(kernel='rbf', C=best_C, gamma=best_gamma)"
   ]
  },
  {
   "cell_type": "code",
   "execution_count": 7,
   "id": "56e67f42",
   "metadata": {},
   "outputs": [
    {
     "data": {
      "text/html": [
       "<style>#sk-container-id-1 {color: black;background-color: white;}#sk-container-id-1 pre{padding: 0;}#sk-container-id-1 div.sk-toggleable {background-color: white;}#sk-container-id-1 label.sk-toggleable__label {cursor: pointer;display: block;width: 100%;margin-bottom: 0;padding: 0.3em;box-sizing: border-box;text-align: center;}#sk-container-id-1 label.sk-toggleable__label-arrow:before {content: \"▸\";float: left;margin-right: 0.25em;color: #696969;}#sk-container-id-1 label.sk-toggleable__label-arrow:hover:before {color: black;}#sk-container-id-1 div.sk-estimator:hover label.sk-toggleable__label-arrow:before {color: black;}#sk-container-id-1 div.sk-toggleable__content {max-height: 0;max-width: 0;overflow: hidden;text-align: left;background-color: #f0f8ff;}#sk-container-id-1 div.sk-toggleable__content pre {margin: 0.2em;color: black;border-radius: 0.25em;background-color: #f0f8ff;}#sk-container-id-1 input.sk-toggleable__control:checked~div.sk-toggleable__content {max-height: 200px;max-width: 100%;overflow: auto;}#sk-container-id-1 input.sk-toggleable__control:checked~label.sk-toggleable__label-arrow:before {content: \"▾\";}#sk-container-id-1 div.sk-estimator input.sk-toggleable__control:checked~label.sk-toggleable__label {background-color: #d4ebff;}#sk-container-id-1 div.sk-label input.sk-toggleable__control:checked~label.sk-toggleable__label {background-color: #d4ebff;}#sk-container-id-1 input.sk-hidden--visually {border: 0;clip: rect(1px 1px 1px 1px);clip: rect(1px, 1px, 1px, 1px);height: 1px;margin: -1px;overflow: hidden;padding: 0;position: absolute;width: 1px;}#sk-container-id-1 div.sk-estimator {font-family: monospace;background-color: #f0f8ff;border: 1px dotted black;border-radius: 0.25em;box-sizing: border-box;margin-bottom: 0.5em;}#sk-container-id-1 div.sk-estimator:hover {background-color: #d4ebff;}#sk-container-id-1 div.sk-parallel-item::after {content: \"\";width: 100%;border-bottom: 1px solid gray;flex-grow: 1;}#sk-container-id-1 div.sk-label:hover label.sk-toggleable__label {background-color: #d4ebff;}#sk-container-id-1 div.sk-serial::before {content: \"\";position: absolute;border-left: 1px solid gray;box-sizing: border-box;top: 0;bottom: 0;left: 50%;z-index: 0;}#sk-container-id-1 div.sk-serial {display: flex;flex-direction: column;align-items: center;background-color: white;padding-right: 0.2em;padding-left: 0.2em;position: relative;}#sk-container-id-1 div.sk-item {position: relative;z-index: 1;}#sk-container-id-1 div.sk-parallel {display: flex;align-items: stretch;justify-content: center;background-color: white;position: relative;}#sk-container-id-1 div.sk-item::before, #sk-container-id-1 div.sk-parallel-item::before {content: \"\";position: absolute;border-left: 1px solid gray;box-sizing: border-box;top: 0;bottom: 0;left: 50%;z-index: -1;}#sk-container-id-1 div.sk-parallel-item {display: flex;flex-direction: column;z-index: 1;position: relative;background-color: white;}#sk-container-id-1 div.sk-parallel-item:first-child::after {align-self: flex-end;width: 50%;}#sk-container-id-1 div.sk-parallel-item:last-child::after {align-self: flex-start;width: 50%;}#sk-container-id-1 div.sk-parallel-item:only-child::after {width: 0;}#sk-container-id-1 div.sk-dashed-wrapped {border: 1px dashed gray;margin: 0 0.4em 0.5em 0.4em;box-sizing: border-box;padding-bottom: 0.4em;background-color: white;}#sk-container-id-1 div.sk-label label {font-family: monospace;font-weight: bold;display: inline-block;line-height: 1.2em;}#sk-container-id-1 div.sk-label-container {text-align: center;}#sk-container-id-1 div.sk-container {/* jupyter's `normalize.less` sets `[hidden] { display: none; }` but bootstrap.min.css set `[hidden] { display: none !important; }` so we also need the `!important` here to be able to override the default hidden behavior on the sphinx rendered scikit-learn.org. See: https://github.com/scikit-learn/scikit-learn/issues/21755 */display: inline-block !important;position: relative;}#sk-container-id-1 div.sk-text-repr-fallback {display: none;}</style><div id=\"sk-container-id-1\" class=\"sk-top-container\"><div class=\"sk-text-repr-fallback\"><pre>SVC(C=1, gamma=1)</pre><b>In a Jupyter environment, please rerun this cell to show the HTML representation or trust the notebook. <br />On GitHub, the HTML representation is unable to render, please try loading this page with nbviewer.org.</b></div><div class=\"sk-container\" hidden><div class=\"sk-item\"><div class=\"sk-estimator sk-toggleable\"><input class=\"sk-toggleable__control sk-hidden--visually\" id=\"sk-estimator-id-1\" type=\"checkbox\" checked><label for=\"sk-estimator-id-1\" class=\"sk-toggleable__label sk-toggleable__label-arrow\">SVC</label><div class=\"sk-toggleable__content\"><pre>SVC(C=1, gamma=1)</pre></div></div></div></div></div>"
      ],
      "text/plain": [
       "SVC(C=1, gamma=1)"
      ]
     },
     "execution_count": 7,
     "metadata": {},
     "output_type": "execute_result"
    }
   ],
   "source": [
    "svm.fit(X_train_scaled, y_train)"
   ]
  },
  {
   "cell_type": "code",
   "execution_count": 8,
   "id": "cd42742e",
   "metadata": {},
   "outputs": [
    {
     "name": "stdout",
     "output_type": "stream",
     "text": [
      "Test Accuracy: 0.6675257731958762\n",
      "Match between Prediction and Rule based on Distance\n"
     ]
    },
    {
     "data": {
      "text/plain": [
       "1.0"
      ]
     },
     "execution_count": 8,
     "metadata": {},
     "output_type": "execute_result"
    }
   ],
   "source": [
    "# Make predictions on the test set\n",
    "y_test_pred = svm.predict(X_test_scaled)\n",
    "\n",
    "# Calculate accuracy\n",
    "accuracy = accuracy_score(y_test, y_test_pred)\n",
    "print(\"Test Accuracy:\", accuracy)\n",
    "\n",
    "# Prediction rule is essentially: 1 if distance > 0\n",
    "distances = svm.decision_function(X_test_scaled)\n",
    "tmp = np.where(distances > 0, 1, 0)\n",
    "print(\"Match between Prediction and Rule based on Distance\")\n",
    "accuracy_score(tmp, y_test_pred)"
   ]
  },
  {
   "cell_type": "code",
   "execution_count": 9,
   "id": "fbe4ace5",
   "metadata": {},
   "outputs": [],
   "source": [
    "from sklearn.calibration import CalibratedClassifierCV"
   ]
  },
  {
   "cell_type": "code",
   "execution_count": 10,
   "id": "68347644",
   "metadata": {},
   "outputs": [],
   "source": [
    "svm_platt = CalibratedClassifierCV(svm)\n",
    "svm_platt.fit(X_train_scaled, y_train)\n",
    "y_test_prob = svm_platt.predict_proba(X_test_scaled)"
   ]
  },
  {
   "cell_type": "code",
   "execution_count": 11,
   "id": "0f7ab1c2",
   "metadata": {},
   "outputs": [
    {
     "data": {
      "text/plain": [
       "0.665807560137457"
      ]
     },
     "execution_count": 11,
     "metadata": {},
     "output_type": "execute_result"
    }
   ],
   "source": [
    "y_test_pred = np.where(y_test_prob[:,1] > 0.5, 1, 0)\n",
    "accuracy_score(y_test, y_test_pred)"
   ]
  },
  {
   "cell_type": "code",
   "execution_count": 12,
   "id": "9ee03d5b",
   "metadata": {},
   "outputs": [],
   "source": [
    "def svm_iterate_process(X, y):\n",
    "    # Split the data into train and test sets\n",
    "    X_train, X_test, y_train, y_test = train_test_split(X, y, test_size=0.4)\n",
    "    \n",
    "    # Define the number of batches\n",
    "    num_batches = 11\n",
    "    \n",
    "    # Randomly shuffle the data indices\n",
    "    indices = np.random.permutation(len(X_train))\n",
    "    \n",
    "    # Calculate the batch size\n",
    "    batch_size = len(X_train) // num_batches\n",
    "    \n",
    "    # Make predictions on the test set using majority voting\n",
    "    preds_voting = np.zeros(len(y_test))\n",
    "    # Make predictions on the test set using average of logit\n",
    "    preds_distance = np.zeros(len(y_test))\n",
    "    #Make predictions on the test set using average of probs\n",
    "    preds_prob = np.zeros(len(y_test))\n",
    "\n",
    "    \n",
    "    # Split the training data into batches, fit a logistic regression model on each batch\n",
    "    for i in range(num_batches):\n",
    "        # Calculate the starting and ending indices for the current batch\n",
    "        start_index = i * batch_size\n",
    "        end_index = (i + 1) * batch_size\n",
    "        \n",
    "        # Select the current batch for training\n",
    "        X_batch = X_train.iloc[indices[start_index:end_index]]\n",
    "        y_batch = y_train.iloc[indices[start_index:end_index]]\n",
    "        \n",
    "        scaler = StandardScaler()\n",
    "        X_batch_scaled = scaler.fit_transform(X_batch)\n",
    "        X_test_scaled = scaler.transform(X_test)\n",
    "        \n",
    "        \n",
    "        # Create a support vector machine model\n",
    "        param_grid = {'C': [0.1, 1, 10], 'gamma': [0.1, 1, 10]}\n",
    "        svm = SVC(kernel='rbf')\n",
    "\n",
    "        grid_search = GridSearchCV(svm, param_grid, cv=5)\n",
    "        grid_search.fit(X_batch_scaled, y_batch)\n",
    "\n",
    "        best_params = grid_search.best_params_\n",
    "        best_C = best_params['C']\n",
    "        best_gamma = best_params['gamma']\n",
    "        svm = SVC(kernel='rbf', C=best_C, gamma=best_gamma)\n",
    "        \n",
    "        # Fit the model on the current batch\n",
    "        svm.fit(X_batch_scaled, y_batch)\n",
    "        \n",
    "               \n",
    "        # Accumulate the predictions using majority voting\n",
    "        y_pred = svm.predict(X_test_scaled)\n",
    "        preds_voting += (y_pred == 1)\n",
    "\n",
    "    \n",
    "        # Accumulate the predictions using majority voting\n",
    "        y_pred = svm.decision_function(X_test_scaled)\n",
    "        preds_distance += y_pred\n",
    "        \n",
    "        \n",
    "        #Accumulate the probs\n",
    "        svm_platt = CalibratedClassifierCV(svm)\n",
    "        svm_platt.fit(X_batch_scaled, y_batch)\n",
    "        y_pred = svm_platt.predict_proba(X_test_scaled)\n",
    "        preds_prob += y_pred[:,1]\n",
    "   \n",
    "    \n",
    "    accuracy = np.zeros(4)\n",
    "    \n",
    "    # Majority voting (selecting the most frequent prediction for each sample)\n",
    "    final_predictions = np.where(preds_voting > num_batches / 2, 1, 0)\n",
    "    accuracy[0] = accuracy_score(y_test, final_predictions)\n",
    "    # Average of logit\n",
    "    final_predictions = np.where(preds_distance > 0, 1, 0)\n",
    "    accuracy[1] = accuracy_score(y_test, final_predictions)\n",
    "    #Average of probs\n",
    "    final_predictions = np.where(preds_prob / num_batches > 0.5, 1, 0)\n",
    "    accuracy[2] = accuracy_score(y_test, final_predictions)\n",
    "    \n",
    "    # Train a model on all 11 batches of training data\n",
    "    \n",
    "    scaler = StandardScaler()\n",
    "    X_train_scaled = scaler.fit_transform(X_train)\n",
    "    X_test_scaled = scaler.transform(X_test)\n",
    "    \n",
    "    param_grid = {'C': [0.1, 1, 10], 'gamma': [0.1, 1, 10]}\n",
    "    svm = SVC(kernel='rbf')\n",
    "\n",
    "    grid_search = GridSearchCV(svm, param_grid, cv=5)\n",
    "    grid_search.fit(X_train_scaled, y_train)\n",
    "\n",
    "    best_params = grid_search.best_params_\n",
    "    best_C = best_params['C']\n",
    "    best_gamma = best_params['gamma']\n",
    "    svm = SVC(kernel='rbf', C=best_C, gamma=best_gamma)\n",
    "    \n",
    "    svm.fit(X_train_scaled, y_train)\n",
    "    y_pred = svm.predict(X_test_scaled)\n",
    "    accuracy[3] = accuracy_score(y_test, y_pred)\n",
    "    \n",
    "    return accuracy"
   ]
  },
  {
   "cell_type": "code",
   "execution_count": 13,
   "id": "9674cdae",
   "metadata": {},
   "outputs": [
    {
     "name": "stdout",
     "output_type": "stream",
     "text": [
      "Accuracies: [[0.66194158 0.66108247 0.66280069 0.65979381]\n",
      " [0.645189   0.645189   0.64304124 0.64561856]\n",
      " [0.65120275 0.6516323  0.65206186 0.65292096]\n",
      " [0.66151203 0.66280069 0.65979381 0.65506873]\n",
      " [0.65249141 0.65292096 0.65249141 0.65292096]\n",
      " [0.6516323  0.6516323  0.6516323  0.64948454]\n",
      " [0.64776632 0.64776632 0.64604811 0.64905498]\n",
      " [0.64905498 0.64905498 0.64905498 0.64862543]\n",
      " [0.64905498 0.64905498 0.64776632 0.64991409]\n",
      " [0.64261168 0.64261168 0.64304124 0.64390034]\n",
      " [0.65592784 0.65678694 0.65463918 0.65549828]\n",
      " [0.66022337 0.65979381 0.6645189  0.65592784]\n",
      " [0.64561856 0.6443299  0.64347079 0.64604811]\n",
      " [0.64819588 0.64862543 0.64733677 0.64862543]\n",
      " [0.64776632 0.64776632 0.64776632 0.64948454]\n",
      " [0.6516323  0.65034364 0.64991409 0.64905498]\n",
      " [0.63702749 0.63702749 0.63659794 0.63616838]\n",
      " [0.64819588 0.64819588 0.64561856 0.64390034]\n",
      " [0.6387457  0.63917526 0.63831615 0.6378866 ]\n",
      " [0.64561856 0.64604811 0.64475945 0.64218213]\n",
      " [0.65420962 0.65249141 0.6516323  0.65034364]\n",
      " [0.65206186 0.65249141 0.65206186 0.65206186]\n",
      " [0.65249141 0.65292096 0.6507732  0.65292096]\n",
      " [0.62714777 0.62800687 0.62800687 0.62843643]\n",
      " [0.64347079 0.64046392 0.64905498 0.64862543]\n",
      " [0.64776632 0.64561856 0.64905498 0.63917526]\n",
      " [0.65249141 0.65292096 0.65206186 0.65206186]\n",
      " [0.65549828 0.65549828 0.65420962 0.6580756 ]\n",
      " [0.65979381 0.65893471 0.65764605 0.65764605]\n",
      " [0.64390034 0.64390034 0.64390034 0.63917526]\n",
      " [0.65764605 0.65764605 0.65635739 0.65549828]\n",
      " [0.64347079 0.64475945 0.64390034 0.64819588]\n",
      " [0.63702749 0.63702749 0.63530928 0.63917526]\n",
      " [0.64304124 0.64261168 0.64046392 0.64175258]\n",
      " [0.645189   0.645189   0.64475945 0.64647766]\n",
      " [0.65292096 0.65292096 0.64991409 0.6516323 ]\n",
      " [0.65764605 0.65893471 0.65764605 0.65635739]\n",
      " [0.65249141 0.6516323  0.6516323  0.65292096]\n",
      " [0.64776632 0.64776632 0.64604811 0.64991409]\n",
      " [0.64304124 0.64475945 0.64304124 0.64261168]\n",
      " [0.6580756  0.65721649 0.65549828 0.65506873]\n",
      " [0.66280069 0.66237113 0.66280069 0.66280069]\n",
      " [0.63702749 0.63702749 0.63702749 0.64046392]\n",
      " [0.63917526 0.64003436 0.63831615 0.6443299 ]\n",
      " [0.63831615 0.6387457  0.63702749 0.6387457 ]\n",
      " [0.64390034 0.64304124 0.64175258 0.645189  ]\n",
      " [0.65721649 0.6580756  0.65893471 0.65292096]\n",
      " [0.64046392 0.64089347 0.63831615 0.63745704]\n",
      " [0.645189   0.64561856 0.65420962 0.64475945]\n",
      " [0.66237113 0.66237113 0.66280069 0.65721649]]\n"
     ]
    }
   ],
   "source": [
    "# Number of times to repeat the process\n",
    "num_repeats = 50\n",
    "\n",
    "# Initialize an empty matrix (10-by-4) to store accuracies\n",
    "accuracies = np.zeros((num_repeats, 4))\n",
    "\n",
    "seed = 42\n",
    "# Repeat the process and store accuracies\n",
    "for i in range(num_repeats):\n",
    "    np.random.seed(seed)\n",
    "    accuracies[i] = svm_iterate_process(X, y)\n",
    "    seed += 2\n",
    "    \n",
    "\n",
    "# Print the accuracies\n",
    "print(\"Accuracies:\", accuracies)"
   ]
  },
  {
   "cell_type": "code",
   "execution_count": 18,
   "id": "0af66159",
   "metadata": {},
   "outputs": [
    {
     "data": {
      "text/plain": [
       "array([0.64890034, 0.64887457, 0.64849656, 0.64828179])"
      ]
     },
     "execution_count": 18,
     "metadata": {},
     "output_type": "execute_result"
    }
   ],
   "source": [
    "np.mean(accuracies, axis = 0) "
   ]
  },
  {
   "cell_type": "code",
   "execution_count": 19,
   "id": "e6fd5332",
   "metadata": {},
   "outputs": [
    {
     "data": {
      "text/plain": [
       "array([0.00779649, 0.00774774, 0.00801102, 0.00701159])"
      ]
     },
     "execution_count": 19,
     "metadata": {},
     "output_type": "execute_result"
    }
   ],
   "source": [
    "np.std(accuracies, axis = 0)"
   ]
  },
  {
   "cell_type": "code",
   "execution_count": 14,
   "id": "ecf81579",
   "metadata": {},
   "outputs": [
    {
     "data": {
      "text/plain": [
       "array([[0.38948768, 0.61051232],\n",
       "       [0.33686824, 0.66313176],\n",
       "       [0.40406891, 0.59593109],\n",
       "       [0.57476139, 0.42523861],\n",
       "       [0.38949099, 0.61050901]])"
      ]
     },
     "execution_count": 14,
     "metadata": {},
     "output_type": "execute_result"
    }
   ],
   "source": [
    "y_test_prob[:5,:]"
   ]
  },
  {
   "cell_type": "code",
   "execution_count": 15,
   "id": "80a3eb58",
   "metadata": {},
   "outputs": [],
   "source": [
    "from sklearn.linear_model import LogisticRegression\n",
    "train_distances = svm.decision_function(X_train_scaled)\n",
    "model = LogisticRegression(max_iter=500)\n",
    "model.fit(train_distances.reshape(-1, 1), y_train)\n",
    "tmp = model.predict_proba(distances.reshape(-1, 1))"
   ]
  },
  {
   "cell_type": "code",
   "execution_count": 16,
   "id": "d838f253",
   "metadata": {},
   "outputs": [
    {
     "data": {
      "text/plain": [
       "array([[0.41027241, 0.58972759],\n",
       "       [0.23314761, 0.76685239],\n",
       "       [0.46663292, 0.53336708],\n",
       "       [0.8914758 , 0.1085242 ],\n",
       "       [0.41028292, 0.58971708]])"
      ]
     },
     "execution_count": 16,
     "metadata": {},
     "output_type": "execute_result"
    }
   ],
   "source": [
    "tmp[:5,:]"
   ]
  },
  {
   "cell_type": "code",
   "execution_count": 17,
   "id": "f927858e",
   "metadata": {},
   "outputs": [
    {
     "data": {
      "text/plain": [
       "0.6628006872852233"
      ]
     },
     "execution_count": 17,
     "metadata": {},
     "output_type": "execute_result"
    }
   ],
   "source": [
    "tmp1 = np.where(tmp[:,1] > 0.5, 1, 0)\n",
    "accuracy_score(y_test, tmp1)"
   ]
  },
  {
   "cell_type": "code",
   "execution_count": null,
   "id": "9ba4654d",
   "metadata": {},
   "outputs": [],
   "source": []
  }
 ],
 "metadata": {
  "kernelspec": {
   "display_name": "Python 3 (ipykernel)",
   "language": "python",
   "name": "python3"
  },
  "language_info": {
   "codemirror_mode": {
    "name": "ipython",
    "version": 3
   },
   "file_extension": ".py",
   "mimetype": "text/x-python",
   "name": "python",
   "nbconvert_exporter": "python",
   "pygments_lexer": "ipython3",
   "version": "3.10.9"
  }
 },
 "nbformat": 4,
 "nbformat_minor": 5
}
