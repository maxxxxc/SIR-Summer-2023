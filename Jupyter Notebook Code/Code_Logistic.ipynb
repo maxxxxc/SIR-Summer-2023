{
 "cells": [
  {
   "cell_type": "markdown",
   "metadata": {},
   "source": [
    "# Analyze the MNIST DATA (5 vs 8)\n",
    "\n",
    "## Load necessary libraries"
   ]
  },
  {
   "cell_type": "code",
   "execution_count": 1,
   "metadata": {},
   "outputs": [],
   "source": [
    "from sklearn import svm\n",
    "from sklearn.datasets import fetch_openml\n",
    "from sklearn.model_selection import train_test_split\n",
    "from sklearn.metrics import accuracy_score\n",
    "import numpy as np\n",
    "import matplotlib.pyplot as plt"
   ]
  },
  {
   "cell_type": "markdown",
   "metadata": {},
   "source": [
    "## Data\n",
    "\n",
    "### Load data \n",
    "- 70K images from 10 classes\n",
    "- Each image is 28-by-28, stored in a 784 vector\n",
    "- lable (y) takes 10 different values"
   ]
  },
  {
   "cell_type": "code",
   "execution_count": null,
   "metadata": {},
   "outputs": [],
   "source": [
    "mnist = fetch_openml('mnist_784')\n",
    "\n",
    "# Extract features (pixel values) and target labels\n",
    "X = mnist.data.astype('float32')\n",
    "y = mnist.target.astype('int64')"
   ]
  },
  {
   "cell_type": "code",
   "execution_count": null,
   "metadata": {},
   "outputs": [],
   "source": [
    "label_counts = np.bincount(y)\n",
    "label_counts"
   ]
  },
  {
   "cell_type": "code",
   "execution_count": null,
   "metadata": {},
   "outputs": [],
   "source": [
    "X.shape"
   ]
  },
  {
   "cell_type": "markdown",
   "metadata": {},
   "source": [
    "Display 12 randomly selected images"
   ]
  },
  {
   "cell_type": "code",
   "execution_count": 6,
   "metadata": {},
   "outputs": [
    {
     "data": {
      "image/png": "[encoded data removed]",
      "text/plain": [
       "<Figure size 720x576 with 12 Axes>"
      ]
     },
     "metadata": {
      "needs_background": "light"
     },
     "output_type": "display_data"
    }
   ],
   "source": [
    "random_indices = np.random.choice(100, size=12, replace=False);\n",
    "\n",
    "# Display the randomly selected images\n",
    "fig, axes = plt.subplots(3, 4, figsize=(10, 8))\n",
    "\n",
    "for i, ax in enumerate(axes.flat):\n",
    "    image = X[random_indices[i]].reshape(28, 28)  # Reshape the flattened image to 28x28\n",
    "    ax.imshow(image, cmap='gray')\n",
    "    ax.axis('off')\n",
    "\n",
    "plt.tight_layout()\n",
    "plt.show()"
   ]
  },
  {
   "cell_type": "markdown",
   "metadata": {},
   "source": [
    "### Filter data \n",
    "Filter the dataset to include only the digits 5 and 8. "
   ]
  },
  {
   "cell_type": "code",
   "execution_count": 7,
   "metadata": {},
   "outputs": [],
   "source": [
    "digit_filter = (y == 5) | (y == 8)\n",
    "X = X[digit_filter]\n",
    "y = y[digit_filter]"
   ]
  },
  {
   "cell_type": "code",
   "execution_count": 8,
   "metadata": {},
   "outputs": [
    {
     "data": {
      "text/plain": [
       "(13138, 784)"
      ]
     },
     "execution_count": 8,
     "metadata": {},
     "output_type": "execute_result"
    }
   ],
   "source": [
    "X.shape"
   ]
  },
  {
   "cell_type": "code",
   "execution_count": 9,
   "metadata": {},
   "outputs": [
    {
     "data": {
      "text/plain": [
       "array([5, 8])"
      ]
     },
     "execution_count": 9,
     "metadata": {},
     "output_type": "execute_result"
    }
   ],
   "source": [
    "np.unique(y)"
   ]
  },
  {
   "cell_type": "code",
   "execution_count": 10,
   "metadata": {},
   "outputs": [],
   "source": [
    "n5 = np.count_nonzero(y == 5)\n",
    "n8 = np.count_nonzero(y == 8)"
   ]
  },
  {
   "cell_type": "code",
   "execution_count": 11,
   "metadata": {},
   "outputs": [
    {
     "data": {
      "text/plain": [
       "(6313, 6825)"
      ]
     },
     "execution_count": 11,
     "metadata": {},
     "output_type": "execute_result"
    }
   ],
   "source": [
    "n5, n8"
   ]
  },
  {
   "cell_type": "code",
   "execution_count": 12,
   "metadata": {},
   "outputs": [
    {
     "data": {
      "image/png": "[encoded data removed]",
      "text/plain": [
       "<Figure size 720x576 with 8 Axes>"
      ]
     },
     "metadata": {
      "needs_background": "light"
     },
     "output_type": "display_data"
    }
   ],
   "source": [
    "random_indices = np.random.choice(n5+n8, size=8, replace=False);\n",
    "\n",
    "# Display the randomly selected images\n",
    "fig, axes = plt.subplots(2, 4, figsize=(10, 8))\n",
    "\n",
    "for i, ax in enumerate(axes.flat):\n",
    "    image = X[random_indices[i]].reshape(28, 28)  # Reshape the flattened image to 28x28\n",
    "    ax.imshow(image, cmap='gray')\n",
    "    ax.axis('off')\n",
    "\n",
    "plt.tight_layout()\n",
    "plt.show()"
   ]
  },
  {
   "cell_type": "markdown",
   "metadata": {},
   "source": [
    "# Logistic Regression\n",
    "\n",
    "60\\% training and 40\\% test\n",
    "\n",
    "Try two different Logistic regression models:\n",
    "- Logistic regression with all 784 features;\n",
    "- Losgitic regression with 100 top PCs."
   ]
  },
  {
   "cell_type": "code",
   "execution_count": 14,
   "metadata": {},
   "outputs": [],
   "source": [
    "from sklearn.linear_model import LogisticRegression"
   ]
  },
  {
   "cell_type": "code",
   "execution_count": 16,
   "metadata": {},
   "outputs": [
    {
     "name": "stdout",
     "output_type": "stream",
     "text": [
      "Test Accuracy: 0.974498858157828\n",
      "Test Accuracy: 0.9492009132420092\n"
     ]
    },
    {
     "name": "stderr",
     "output_type": "stream",
     "text": [
      "/Users/feng_macpro/anaconda3/lib/python3.7/site-packages/sklearn/linear_model/_logistic.py:940: ConvergenceWarning: lbfgs failed to converge (status=1):\n",
      "STOP: TOTAL NO. of ITERATIONS REACHED LIMIT.\n",
      "\n",
      "Increase the number of iterations (max_iter) or scale the data as shown in:\n",
      "    https://scikit-learn.org/stable/modules/preprocessing.html\n",
      "Please also refer to the documentation for alternative solver options:\n",
      "    https://scikit-learn.org/stable/modules/linear_model.html#logistic-regression\n",
      "  extra_warning_msg=_LOGISTIC_SOLVER_CONVERGENCE_MSG)\n"
     ]
    }
   ],
   "source": [
    "X_train, X_test, y_train, y_test = train_test_split(X, y, test_size=0.4, random_state=42)\n",
    "\n",
    "# Create and train the logistic regression model\n",
    "#model = LogisticRegression()\n",
    "model = LogisticRegression(max_iter=500)\n",
    "model.fit(X_train, y_train)\n",
    "\n",
    "# Make predictions on the test set\n",
    "y_test_pred = model.predict(X_test)\n",
    "y_train_pred = model.predict(X_train)\n",
    "\n",
    "# Calculate accuracy\n",
    "accuracy = accuracy_score(y_train, y_train_pred)\n",
    "print(\"Test Accuracy:\", accuracy)\n",
    "accuracy = accuracy_score(y_test, y_test_pred)\n",
    "print(\"Test Accuracy:\", accuracy)"
   ]
  },
  {
   "cell_type": "code",
   "execution_count": 17,
   "metadata": {},
   "outputs": [
    {
     "name": "stdout",
     "output_type": "stream",
     "text": [
      "[ -4.83377634   4.5875228   -4.74194553  -5.97698984 -12.85795304\n",
      "  -0.42786585  12.6782026   -3.9279905    1.76978599  -7.74822774]\n",
      "[[9.92106387e-01 7.89361343e-03]\n",
      " [1.00754914e-02 9.89924509e-01]\n",
      " [9.91353748e-01 8.64625173e-03]\n",
      " [9.97469967e-01 2.53003263e-03]\n",
      " [9.99997395e-01 2.60531845e-06]\n",
      " [6.05363937e-01 3.94636063e-01]\n",
      " [3.11835257e-06 9.99996882e-01]\n",
      " [9.80696763e-01 1.93032371e-02]\n",
      " [1.45568945e-01 8.54431055e-01]\n",
      " [9.99568680e-01 4.31320486e-04]]\n",
      "[5 8 5 5 5 5 8 5 8 5]\n"
     ]
    }
   ],
   "source": [
    "y_test_logits = model.decision_function(X_test)\n",
    "y_test_prob = model.predict_proba(X_test)\n",
    "print(y_test_logits[:10])\n",
    "print(y_test_prob[:10])\n",
    "print(y_test_pred[:10])"
   ]
  },
  {
   "cell_type": "code",
   "execution_count": 18,
   "metadata": {},
   "outputs": [
    {
     "data": {
      "text/plain": [
       "(0.007893613426839953, 0.9921063865731601)"
      ]
     },
     "execution_count": 18,
     "metadata": {},
     "output_type": "execute_result"
    }
   ],
   "source": [
    "1/(1+ np.exp(-y_test_logits[0])), 1/(1+ np.exp(y_test_logits[0]))"
   ]
  },
  {
   "cell_type": "markdown",
   "metadata": {},
   "source": [
    "PCA + Logistic Regression: use top 100 PCs"
   ]
  },
  {
   "cell_type": "code",
   "execution_count": null,
   "metadata": {},
   "outputs": [],
   "source": [
    "from sklearn.decomposition import PCA\n",
    "\n",
    "pca = PCA(n_components=100)\n",
    "X_train_pca = pca.fit_transform(X_train)\n",
    "X_test_pca = pca.transform(X_test)\n",
    "\n",
    "# Create and train the logistic regression model on the PCA-transformed data\n",
    "model = LogisticRegression(max_iter=500)\n",
    "model.fit(X_train_pca, y_train)\n",
    "\n",
    "# Make predictions on the test set\n",
    "y_test_pred = model.predict(X_test_pca)\n",
    "y_train_pred = model.predict(X_train_pca)\n",
    "\n",
    "# Calculate accuracy\n",
    "accuracy = accuracy_score(y_train, y_train_pred)\n",
    "print(\"Test Accuracy:\", accuracy)\n",
    "accuracy = accuracy_score(y_test, y_test_pred)\n",
    "print(\"Test Accuracy:\", accuracy)"
   ]
  },
  {
   "cell_type": "markdown",
   "metadata": {},
   "source": [
    "# Divide and Conquer\n",
    "\n",
    "Divide the training data into 11 batches, train a logistic model on each of the batch, and then combine the 11 prediction results. Consider the following two ensemble methods:\n",
    "- majority voting\n",
    "- average (or sum) of the logit output and then make decision based on its sign"
   ]
  },
  {
   "cell_type": "code",
   "execution_count": 30,
   "metadata": {
    "scrolled": true
   },
   "outputs": [
    {
     "name": "stdout",
     "output_type": "stream",
     "text": [
      "Majority Voting Accuracy: 0.9573820395738204\n",
      "Average Logit Accuracy: 0.9587138508371386\n"
     ]
    }
   ],
   "source": [
    "import warnings\n",
    "\n",
    "# Define the number of batches\n",
    "num_batches = 11\n",
    "\n",
    "# Calculate the batch size\n",
    "batch_size = len(X_train) // num_batches\n",
    "\n",
    "# Initialize an empty list to store the models\n",
    "models = []\n",
    "\n",
    "# Suppress warnings\n",
    "warnings.filterwarnings(\"ignore\")\n",
    "\n",
    "# Split the training data into batches, fit a logistic regression model on each batch\n",
    "for i in range(num_batches):\n",
    "    # Calculate the starting and ending indices for the current batch\n",
    "    start_index = i * batch_size\n",
    "    end_index = (i + 1) * batch_size\n",
    "    \n",
    "    # Create a logistic regression model\n",
    "    model = LogisticRegression()\n",
    "    \n",
    "    # Select the current batch for training\n",
    "    X_batch = X_train[start_index:end_index]\n",
    "    y_batch = y_train[start_index:end_index]\n",
    "    \n",
    "    # Fit the model on the current batch\n",
    "    model.fit(X_batch, y_batch)\n",
    "    \n",
    "    # Append the trained model to the list\n",
    "    models.append(model)\n",
    "\n",
    "# Make predictions on the test set using majority voting\n",
    "preds_voting = np.zeros(len(y_test))\n",
    "# Make predictions on the test set using average of logit\n",
    "preds_logit = np.zeros(len(y_test))\n",
    "\n",
    "for model in models:\n",
    "    # Make predictions using each model\n",
    "    y_pred = model.predict(X_test)\n",
    "    # Accumulate the predictions using majority voting\n",
    "    preds_voting += (y_pred == 8)\n",
    "    \n",
    "    # Accumulate the predictions using majority voting\n",
    "    y_pred = model.decision_function(X_test)\n",
    "    preds_logit += y_pred\n",
    "    \n",
    "# Majority voting (selecting the most frequent prediction for each sample)\n",
    "final_predictions = np.where(preds_voting > len(models) / 2, 8, 5)\n",
    "accuracy = accuracy_score(y_test, final_predictions)\n",
    "print(\"Majority Voting Accuracy:\", accuracy)\n",
    "\n",
    "# Average of logit\n",
    "final_predictions = np.where(preds_logit > 0, 8, 5)\n",
    "accuracy = accuracy_score(y_test, final_predictions)\n",
    "print(\"Average Logit Accuracy:\", accuracy)"
   ]
  },
  {
   "cell_type": "markdown",
   "metadata": {},
   "source": [
    "## Iteration Code\n",
    "\n",
    "We need to repeat the process above 100 times and record the corresponding accuracies. Let's write a function of the process above and then call this function 100 times. "
   ]
  },
  {
   "cell_type": "code",
   "execution_count": 38,
   "metadata": {},
   "outputs": [],
   "source": [
    "def iterate_process(X, y):\n",
    "    # Split the data into train and test sets\n",
    "    X_train, X_test, y_train, y_test = train_test_split(X, y, test_size=0.4)\n",
    "    \n",
    "    # Define the number of batches\n",
    "    num_batches = 11\n",
    "    \n",
    "    # Randomly shuffle the data indices\n",
    "    indices = np.random.permutation(len(X))\n",
    "    \n",
    "    # Calculate the batch size\n",
    "    batch_size = len(X_train) // num_batches\n",
    "    \n",
    "    # Initialize an empty list to store the models\n",
    "    models = []\n",
    "    \n",
    "    # Split the training data into batches, fit a logistic regression model on each batch\n",
    "    for i in range(num_batches):\n",
    "        # Calculate the starting and ending indices for the current batch\n",
    "        start_index = i * batch_size\n",
    "        end_index = (i + 1) * batch_size\n",
    "        \n",
    "        # Create a logistic regression model\n",
    "        model = LogisticRegression()\n",
    "        \n",
    "        # Select the current batch for training\n",
    "        X_batch = X_train[start_index:end_index]\n",
    "        y_batch = y_train[start_index:end_index]\n",
    "        \n",
    "        # Fit the model on the current batch\n",
    "        model.fit(X_batch, y_batch)\n",
    "        \n",
    "        # Append the trained model to the list\n",
    "        models.append(model)\n",
    "    \n",
    "    # Make predictions on the test set using majority voting\n",
    "    preds_voting = np.zeros(len(y_test))\n",
    "    # Make predictions on the test set using average of logit\n",
    "    preds_logit = np.zeros(len(y_test))\n",
    "\n",
    "    for model in models:\n",
    "        # Make predictions using each model\n",
    "        y_pred = model.predict(X_test)\n",
    "        # Accumulate the predictions using majority voting\n",
    "        preds_voting += (y_pred == 8)\n",
    "    \n",
    "        # Accumulate the predictions using majority voting\n",
    "        y_pred = model.decision_function(X_test)\n",
    "        preds_logit += y_pred\n",
    "    \n",
    "    accuracy = np.zeros(2)\n",
    "    \n",
    "    # Majority voting (selecting the most frequent prediction for each sample)\n",
    "    final_predictions = np.where(preds_voting > len(models) / 2, 8, 5)\n",
    "    accuracy[0] = accuracy_score(y_test, final_predictions)\n",
    "    # Average of logit\n",
    "    final_predictions = np.where(preds_logit > 0, 8, 5)\n",
    "    accuracy[1] = accuracy_score(y_test, final_predictions)\n",
    "    \n",
    "    return accuracy"
   ]
  },
  {
   "cell_type": "code",
   "execution_count": 39,
   "metadata": {},
   "outputs": [
    {
     "name": "stdout",
     "output_type": "stream",
     "text": [
      "Accuracies: [[0.95300609 0.95414764]\n",
      " [0.94977169 0.95224505]\n",
      " [0.95319635 0.95281583]]\n"
     ]
    }
   ],
   "source": [
    "# Number of times to repeat the process\n",
    "num_repeats = 3\n",
    "\n",
    "# Initialize an empty vector to store accuracies\n",
    "accuracies = np.zeros((num_repeats, 2))\n",
    "\n",
    "# Repeat the process and store accuracies\n",
    "for i in range(num_repeats):\n",
    "    accuracies[i] = iterate_process(X, y)\n",
    "\n",
    "# Print the accuracies\n",
    "print(\"Accuracies:\", accuracies)"
   ]
  },
  {
   "cell_type": "code",
   "execution_count": 40,
   "metadata": {},
   "outputs": [
    {
     "data": {
      "text/plain": [
       "13138"
      ]
     },
     "execution_count": 40,
     "metadata": {},
     "output_type": "execute_result"
    }
   ],
   "source": [
    "len(X)"
   ]
  },
  {
   "cell_type": "code",
   "execution_count": 41,
   "metadata": {},
   "outputs": [
    {
     "data": {
      "text/plain": [
       "13138"
      ]
     },
     "execution_count": 41,
     "metadata": {},
     "output_type": "execute_result"
    }
   ],
   "source": [
    "len(y)"
   ]
  },
  {
   "cell_type": "code",
   "execution_count": 42,
   "metadata": {},
   "outputs": [
    {
     "data": {
      "text/plain": [
       "(13138, 784)"
      ]
     },
     "execution_count": 42,
     "metadata": {},
     "output_type": "execute_result"
    }
   ],
   "source": [
    "X.shape"
   ]
  },
  {
   "cell_type": "code",
   "execution_count": null,
   "metadata": {},
   "outputs": [],
   "source": []
  }
 ],
 "metadata": {
  "kernelspec": {
   "display_name": "Python 3 (ipykernel)",
   "language": "python",
   "name": "python3"
  },
  "language_info": {
   "codemirror_mode": {
    "name": "ipython",
    "version": 3
   },
   "file_extension": ".py",
   "mimetype": "text/x-python",
   "name": "python",
   "nbconvert_exporter": "python",
   "pygments_lexer": "ipython3",
   "version": "3.10.9"
  }
 },
 "nbformat": 4,
 "nbformat_minor": 4
}
