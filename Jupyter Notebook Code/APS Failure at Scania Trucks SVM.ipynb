{
 "cells": [
  {
   "cell_type": "code",
   "execution_count": 1,
   "id": "9421c01e",
   "metadata": {},
   "outputs": [],
   "source": [
    "import pandas as pd\n",
    "import numpy as np\n",
    "from sklearn.model_selection import train_test_split\n",
    "from sklearn.metrics import accuracy_score\n",
    "from sklearn.preprocessing import StandardScaler\n",
    "from sklearn.metrics import confusion_matrix\n",
    "from sklearn.model_selection import GridSearchCV\n",
    "from sklearn.svm import SVC"
   ]
  },
  {
   "cell_type": "code",
   "execution_count": 2,
   "id": "5b382675",
   "metadata": {},
   "outputs": [
    {
     "data": {
      "text/plain": [
       "0    31250\n",
       "1      750\n",
       "Name: class, dtype: int64"
      ]
     },
     "execution_count": 2,
     "metadata": {},
     "output_type": "execute_result"
    }
   ],
   "source": [
    "url = \"https://raw.githubusercontent.com/maxxxxc/SIR-Summer-2023/main/dataset/aps_failure_test_set.csv\"\n",
    "# Read the training dataset from CSV\n",
    "train_df = pd.read_csv(url, na_values = 'na')\n",
    "\n",
    "# Read the test dataset from CSV\n",
    "test_df = pd.read_csv(url, na_values = 'na')\n",
    "\n",
    "# Add a 'Label' column to the test dataset and fill it with NaN values\n",
    "#test_df['Label'] = float('nan')\n",
    "\n",
    "# Concatenate the training and test datasets\n",
    "df = pd.concat([train_df, test_df], ignore_index=True)\n",
    "\n",
    "# Save the combined dataset to a new CSV file\n",
    "df.to_csv('combined.csv', index=False)\n",
    "\n",
    "missing_values_count = df.isna().sum()\n",
    "\n",
    "X = df.drop(\"class\", axis=1)\n",
    "y = df[\"class\"]\n",
    "\n",
    "threshold = len(X) * 0.5\n",
    "X = X.dropna(thresh = threshold, axis = 1)\n",
    "\n",
    "X = X.fillna(X.mean())\n",
    "\n",
    "y = y.replace({\"neg\" : 0, \"pos\" : 1})\n",
    "y.value_counts()"
   ]
  },
  {
   "cell_type": "code",
   "execution_count": 3,
   "id": "7ad36cc1",
   "metadata": {},
   "outputs": [],
   "source": [
    "#divide"
   ]
  },
  {
   "cell_type": "code",
   "execution_count": 4,
   "id": "8b00dd6a",
   "metadata": {},
   "outputs": [],
   "source": [
    "X_train, X_test, y_train, y_test = train_test_split(X, y, test_size=0.4, random_state=42)"
   ]
  },
  {
   "cell_type": "code",
   "execution_count": 5,
   "id": "76e9aa29",
   "metadata": {},
   "outputs": [],
   "source": [
    "scaler = StandardScaler()\n",
    "X_train_scaled = scaler.fit_transform(X_train)\n",
    "X_test_scaled = scaler.transform(X_test)"
   ]
  },
  {
   "cell_type": "code",
   "execution_count": 6,
   "id": "8b2271e1",
   "metadata": {},
   "outputs": [],
   "source": [
    "#param_grid = {'C': [0.1, 1, 10], 'gamma': [0.1, 1, 10]}\n",
    "#svm = SVC(kernel='rbf')\n",
    "\n",
    "#grid_search = GridSearchCV(svm, param_grid, cv=5)\n",
    "#grid_search.fit(X_train_scaled, y_train)\n",
    "\n",
    "#best_params = grid_search.best_params_\n",
    "#best_C = best_params['C']\n",
    "#best_gamma = best_params['gamma']\n",
    "\n",
    "best_C = 1\n",
    "best_gamma = 1\n",
    "\n",
    "#Fit the SVM with the best parameters:\n",
    "svm = SVC(kernel='rbf', C=best_C, gamma=best_gamma)"
   ]
  },
  {
   "cell_type": "code",
   "execution_count": 7,
   "id": "56e67f42",
   "metadata": {},
   "outputs": [
    {
     "data": {
      "text/html": [
       "<style>#sk-container-id-1 {color: black;background-color: white;}#sk-container-id-1 pre{padding: 0;}#sk-container-id-1 div.sk-toggleable {background-color: white;}#sk-container-id-1 label.sk-toggleable__label {cursor: pointer;display: block;width: 100%;margin-bottom: 0;padding: 0.3em;box-sizing: border-box;text-align: center;}#sk-container-id-1 label.sk-toggleable__label-arrow:before {content: \"▸\";float: left;margin-right: 0.25em;color: #696969;}#sk-container-id-1 label.sk-toggleable__label-arrow:hover:before {color: black;}#sk-container-id-1 div.sk-estimator:hover label.sk-toggleable__label-arrow:before {color: black;}#sk-container-id-1 div.sk-toggleable__content {max-height: 0;max-width: 0;overflow: hidden;text-align: left;background-color: #f0f8ff;}#sk-container-id-1 div.sk-toggleable__content pre {margin: 0.2em;color: black;border-radius: 0.25em;background-color: #f0f8ff;}#sk-container-id-1 input.sk-toggleable__control:checked~div.sk-toggleable__content {max-height: 200px;max-width: 100%;overflow: auto;}#sk-container-id-1 input.sk-toggleable__control:checked~label.sk-toggleable__label-arrow:before {content: \"▾\";}#sk-container-id-1 div.sk-estimator input.sk-toggleable__control:checked~label.sk-toggleable__label {background-color: #d4ebff;}#sk-container-id-1 div.sk-label input.sk-toggleable__control:checked~label.sk-toggleable__label {background-color: #d4ebff;}#sk-container-id-1 input.sk-hidden--visually {border: 0;clip: rect(1px 1px 1px 1px);clip: rect(1px, 1px, 1px, 1px);height: 1px;margin: -1px;overflow: hidden;padding: 0;position: absolute;width: 1px;}#sk-container-id-1 div.sk-estimator {font-family: monospace;background-color: #f0f8ff;border: 1px dotted black;border-radius: 0.25em;box-sizing: border-box;margin-bottom: 0.5em;}#sk-container-id-1 div.sk-estimator:hover {background-color: #d4ebff;}#sk-container-id-1 div.sk-parallel-item::after {content: \"\";width: 100%;border-bottom: 1px solid gray;flex-grow: 1;}#sk-container-id-1 div.sk-label:hover label.sk-toggleable__label {background-color: #d4ebff;}#sk-container-id-1 div.sk-serial::before {content: \"\";position: absolute;border-left: 1px solid gray;box-sizing: border-box;top: 0;bottom: 0;left: 50%;z-index: 0;}#sk-container-id-1 div.sk-serial {display: flex;flex-direction: column;align-items: center;background-color: white;padding-right: 0.2em;padding-left: 0.2em;position: relative;}#sk-container-id-1 div.sk-item {position: relative;z-index: 1;}#sk-container-id-1 div.sk-parallel {display: flex;align-items: stretch;justify-content: center;background-color: white;position: relative;}#sk-container-id-1 div.sk-item::before, #sk-container-id-1 div.sk-parallel-item::before {content: \"\";position: absolute;border-left: 1px solid gray;box-sizing: border-box;top: 0;bottom: 0;left: 50%;z-index: -1;}#sk-container-id-1 div.sk-parallel-item {display: flex;flex-direction: column;z-index: 1;position: relative;background-color: white;}#sk-container-id-1 div.sk-parallel-item:first-child::after {align-self: flex-end;width: 50%;}#sk-container-id-1 div.sk-parallel-item:last-child::after {align-self: flex-start;width: 50%;}#sk-container-id-1 div.sk-parallel-item:only-child::after {width: 0;}#sk-container-id-1 div.sk-dashed-wrapped {border: 1px dashed gray;margin: 0 0.4em 0.5em 0.4em;box-sizing: border-box;padding-bottom: 0.4em;background-color: white;}#sk-container-id-1 div.sk-label label {font-family: monospace;font-weight: bold;display: inline-block;line-height: 1.2em;}#sk-container-id-1 div.sk-label-container {text-align: center;}#sk-container-id-1 div.sk-container {/* jupyter's `normalize.less` sets `[hidden] { display: none; }` but bootstrap.min.css set `[hidden] { display: none !important; }` so we also need the `!important` here to be able to override the default hidden behavior on the sphinx rendered scikit-learn.org. See: https://github.com/scikit-learn/scikit-learn/issues/21755 */display: inline-block !important;position: relative;}#sk-container-id-1 div.sk-text-repr-fallback {display: none;}</style><div id=\"sk-container-id-1\" class=\"sk-top-container\"><div class=\"sk-text-repr-fallback\"><pre>SVC(C=1, gamma=1)</pre><b>In a Jupyter environment, please rerun this cell to show the HTML representation or trust the notebook. <br />On GitHub, the HTML representation is unable to render, please try loading this page with nbviewer.org.</b></div><div class=\"sk-container\" hidden><div class=\"sk-item\"><div class=\"sk-estimator sk-toggleable\"><input class=\"sk-toggleable__control sk-hidden--visually\" id=\"sk-estimator-id-1\" type=\"checkbox\" checked><label for=\"sk-estimator-id-1\" class=\"sk-toggleable__label sk-toggleable__label-arrow\">SVC</label><div class=\"sk-toggleable__content\"><pre>SVC(C=1, gamma=1)</pre></div></div></div></div></div>"
      ],
      "text/plain": [
       "SVC(C=1, gamma=1)"
      ]
     },
     "execution_count": 7,
     "metadata": {},
     "output_type": "execute_result"
    }
   ],
   "source": [
    "svm.fit(X_train_scaled, y_train)"
   ]
  },
  {
   "cell_type": "code",
   "execution_count": 8,
   "id": "cd42742e",
   "metadata": {},
   "outputs": [
    {
     "name": "stdout",
     "output_type": "stream",
     "text": [
      "Test Accuracy: 0.991328125\n",
      "Match between Prediction and Rule based on Distance\n"
     ]
    },
    {
     "data": {
      "text/plain": [
       "1.0"
      ]
     },
     "execution_count": 8,
     "metadata": {},
     "output_type": "execute_result"
    }
   ],
   "source": [
    "# Make predictions on the test set\n",
    "y_test_pred = svm.predict(X_test_scaled)\n",
    "\n",
    "# Calculate accuracy\n",
    "accuracy = accuracy_score(y_test, y_test_pred)\n",
    "print(\"Test Accuracy:\", accuracy)\n",
    "\n",
    "# Prediction rule is essentially: 1 if distance > 0\n",
    "distances = svm.decision_function(X_test_scaled)\n",
    "tmp = np.where(distances > 0, 1, 0)\n",
    "print(\"Match between Prediction and Rule based on Distance\")\n",
    "accuracy_score(tmp, y_test_pred)"
   ]
  },
  {
   "cell_type": "code",
   "execution_count": 9,
   "id": "fbe4ace5",
   "metadata": {},
   "outputs": [],
   "source": [
    "from sklearn.calibration import CalibratedClassifierCV"
   ]
  },
  {
   "cell_type": "code",
   "execution_count": 10,
   "id": "68347644",
   "metadata": {},
   "outputs": [],
   "source": [
    "svm_platt = CalibratedClassifierCV(svm)\n",
    "svm_platt.fit(X_train_scaled, y_train)\n",
    "y_test_prob = svm_platt.predict_proba(X_test_scaled)"
   ]
  },
  {
   "cell_type": "code",
   "execution_count": 11,
   "id": "0f7ab1c2",
   "metadata": {},
   "outputs": [
    {
     "data": {
      "text/plain": [
       "0.99140625"
      ]
     },
     "execution_count": 11,
     "metadata": {},
     "output_type": "execute_result"
    }
   ],
   "source": [
    "y_test_pred = np.where(y_test_prob[:,1] > 0.5, 1, 0)\n",
    "accuracy_score(y_test, y_test_pred)"
   ]
  },
  {
   "cell_type": "code",
   "execution_count": 12,
   "id": "9ee03d5b",
   "metadata": {},
   "outputs": [],
   "source": [
    "def svm_iterate_process(X, y):\n",
    "    # Split the data into train and test sets\n",
    "    X_train, X_test, y_train, y_test = train_test_split(X, y, test_size=0.4)\n",
    "    \n",
    "    # Define the number of batches\n",
    "    num_batches = 11\n",
    "    \n",
    "    # Randomly shuffle the data indices\n",
    "    indices = np.random.permutation(len(X_train))\n",
    "    \n",
    "    # Calculate the batch size\n",
    "    batch_size = len(X_train) // num_batches\n",
    "    \n",
    "    # Make predictions on the test set using majority voting\n",
    "    preds_voting = np.zeros(len(y_test))\n",
    "    # Make predictions on the test set using average of logit\n",
    "    preds_distance = np.zeros(len(y_test))\n",
    "    #Make predictions on the test set using average of probs\n",
    "    preds_prob = np.zeros(len(y_test))\n",
    "\n",
    "    \n",
    "    # Split the training data into batches, fit a logistic regression model on each batch\n",
    "    for i in range(num_batches):\n",
    "        # Calculate the starting and ending indices for the current batch\n",
    "        start_index = i * batch_size\n",
    "        end_index = (i + 1) * batch_size\n",
    "        \n",
    "        # Select the current batch for training\n",
    "        X_batch = X_train.iloc[indices[start_index:end_index]]\n",
    "        y_batch = y_train.iloc[indices[start_index:end_index]]\n",
    "        \n",
    "        scaler = StandardScaler()\n",
    "        X_batch_scaled = scaler.fit_transform(X_batch)\n",
    "        X_test_scaled = scaler.transform(X_test)\n",
    "        \n",
    "        \n",
    "        # Create a support vector machine model\n",
    "        param_grid = {'C': [0.1, 1, 10], 'gamma': [0.1, 1, 10]}\n",
    "        svm = SVC(kernel='rbf')\n",
    "\n",
    "        grid_search = GridSearchCV(svm, param_grid, cv=5)\n",
    "        grid_search.fit(X_batch_scaled, y_batch)\n",
    "\n",
    "        best_params = grid_search.best_params_\n",
    "        best_C = best_params['C']\n",
    "        best_gamma = best_params['gamma']\n",
    "        svm = SVC(kernel='rbf', C=best_C, gamma=best_gamma)\n",
    "        \n",
    "        # Fit the model on the current batch\n",
    "        svm.fit(X_batch_scaled, y_batch)\n",
    "        current_cverr = cross_val_score(svm, X_batch_scaled, y_batch, cv = 5, scoring = 'accuracy').mean()\n",
    "        total_cverr += current_cverr\n",
    "               \n",
    "        # Accumulate the predictions using majority voting\n",
    "        y_pred = svm.predict(X_test_scaled)\n",
    "        preds_voting += (y_pred == 1)\n",
    "\n",
    "    \n",
    "        # Accumulate the predictions using majority voting\n",
    "        y_pred = svm.decision_function(X_test_scaled)\n",
    "        preds_distance += y_pred\n",
    "        \n",
    "        \n",
    "        #Accumulate the probs\n",
    "        svm_platt = CalibratedClassifierCV(svm)\n",
    "        svm_platt.fit(X_batch_scaled, y_batch)\n",
    "        y_pred = svm_platt.predict_proba(X_test_scaled)\n",
    "        preds_prob += y_pred[:,1]\n",
    "   \n",
    "    \n",
    "    accuracy = np.zeros(4)\n",
    "    \n",
    "    # Majority voting (selecting the most frequent prediction for each sample)\n",
    "    final_predictions = np.where(preds_voting > num_batches / 2, 1, 0)\n",
    "    accuracy[0] = accuracy_score(y_test, final_predictions)\n",
    "    # Average of logit\n",
    "    final_predictions = np.where(preds_distance > 0, 1, 0)\n",
    "    accuracy[1] = accuracy_score(y_test, final_predictions)\n",
    "    #Average of probs\n",
    "    final_predictions = np.where(preds_prob / num_batches > 0.5, 1, 0)\n",
    "    accuracy[2] = accuracy_score(y_test, final_predictions)\n",
    "    \n",
    "    # Train a model on all 11 batches of training data\n",
    "    \n",
    "    scaler = StandardScaler()\n",
    "    X_train_scaled = scaler.fit_transform(X_train)\n",
    "    X_test_scaled = scaler.transform(X_test)\n",
    "    \n",
    "    param_grid = {'C': [0.1, 1, 10], 'gamma': [0.1, 1, 10]}\n",
    "    svm = SVC(kernel='rbf')\n",
    "\n",
    "    grid_search = GridSearchCV(svm, param_grid, cv=5)\n",
    "    grid_search.fit(X_train_scaled, y_train)\n",
    "\n",
    "    best_params = grid_search.best_params_\n",
    "    best_C = best_params['C']\n",
    "    best_gamma = best_params['gamma']\n",
    "    svm = SVC(kernel='rbf', C=best_C, gamma=best_gamma)\n",
    "    \n",
    "    svm.fit(X_train_scaled, y_train)\n",
    "    y_pred = svm.predict(X_test_scaled)\n",
    "    accuracy[3] = accuracy_score(y_test, y_pred)\n",
    "    \n",
    "    return accuracy"
   ]
  },
  {
   "cell_type": "code",
   "execution_count": 13,
   "id": "9674cdae",
   "metadata": {},
   "outputs": [
    {
     "name": "stdout",
     "output_type": "stream",
     "text": [
      "Accuracies: [[0.97648437 0.97648437 0.97648437 0.99132813]\n",
      " [0.97710937 0.97710937 0.97710937 0.99257812]\n",
      " [0.9778125  0.9778125  0.9778125  0.99140625]\n",
      " [0.97742187 0.97742187 0.97742187 0.99179688]\n",
      " [0.976875   0.976875   0.976875   0.99148437]\n",
      " [0.97453125 0.97453125 0.97453125 0.98984375]\n",
      " [0.97554688 0.97554688 0.97554688 0.98890625]\n",
      " [0.97742187 0.97742187 0.97742187 0.99234375]\n",
      " [0.97507813 0.97507813 0.97507813 0.9896875 ]\n",
      " [0.9771875  0.9771875  0.9771875  0.990625  ]\n",
      " [0.97703125 0.97703125 0.97703125 0.99234375]\n",
      " [0.97789063 0.97789063 0.97789063 0.9921875 ]\n",
      " [0.97765625 0.97765625 0.97765625 0.99117188]\n",
      " [0.97726563 0.97726563 0.97726563 0.99140625]\n",
      " [0.97710937 0.97710937 0.97710937 0.99164063]\n",
      " [0.97742187 0.97742187 0.97742187 0.9921875 ]\n",
      " [0.97640625 0.97640625 0.97640625 0.9909375 ]\n",
      " [0.97757812 0.97757812 0.97757812 0.993125  ]\n",
      " [0.97632812 0.97632812 0.97632812 0.9909375 ]\n",
      " [0.9746875  0.9746875  0.9746875  0.98984375]\n",
      " [0.97789063 0.97789063 0.97789063 0.99101562]\n",
      " [0.97546875 0.97546875 0.97546875 0.99046875]\n",
      " [0.97632812 0.97632812 0.97632812 0.9903125 ]\n",
      " [0.97695312 0.97695312 0.97695312 0.99070313]\n",
      " [0.97695312 0.97695312 0.97695312 0.98929687]\n",
      " [0.9753125  0.9753125  0.9753125  0.98921875]\n",
      " [0.97679688 0.97679688 0.97679688 0.99132813]\n",
      " [0.97578125 0.97578125 0.97578125 0.99117188]\n",
      " [0.97773438 0.97773438 0.97773438 0.99226563]\n",
      " [0.9775     0.9775     0.9775     0.99101562]\n",
      " [0.97851562 0.97851562 0.97851562 0.9934375 ]\n",
      " [0.97484375 0.97484375 0.97484375 0.98835938]\n",
      " [0.97820312 0.97820312 0.97820312 0.99257812]\n",
      " [0.97726563 0.97726563 0.97726563 0.99132813]\n",
      " [0.97664063 0.97664063 0.97664063 0.99226563]\n",
      " [0.976875   0.976875   0.976875   0.99210937]\n",
      " [0.97492188 0.97492188 0.97492188 0.98859375]\n",
      " [0.97414062 0.97414062 0.97414062 0.98789063]\n",
      " [0.97578125 0.97578125 0.97578125 0.99046875]\n",
      " [0.97789063 0.97789063 0.97789063 0.991875  ]\n",
      " [0.9775     0.9775     0.9775     0.99078125]\n",
      " [0.9765625  0.9765625  0.9765625  0.99132813]\n",
      " [0.97640625 0.97640625 0.97640625 0.99015625]\n",
      " [0.9775     0.9775     0.9775     0.99140625]\n",
      " [0.97570313 0.97570313 0.97570313 0.98960938]\n",
      " [0.97875    0.97875    0.97875    0.9921875 ]\n",
      " [0.97640625 0.97640625 0.97640625 0.99140625]\n",
      " [0.9759375  0.9759375  0.9759375  0.9903125 ]\n",
      " [0.97890625 0.97890625 0.97890625 0.99257812]\n",
      " [0.97632812 0.97632812 0.97632812 0.99046875]]\n"
     ]
    }
   ],
   "source": [
    "# Number of times to repeat the process\n",
    "num_repeats = 50\n",
    "\n",
    "# Initialize an empty matrix (10-by-4) to store accuracies\n",
    "accuracies = np.zeros((num_repeats, 4))\n",
    "\n",
    "seed = 42\n",
    "# Repeat the process and store accuracies\n",
    "for i in range(num_repeats):\n",
    "    np.random.seed(seed)\n",
    "    accuracies[i] = svm_iterate_process(X, y)\n",
    "    seed += 2\n",
    "    \n",
    "\n",
    "# Print the accuracies\n",
    "print(\"Accuracies:\", accuracies)"
   ]
  },
  {
   "cell_type": "code",
   "execution_count": 18,
   "id": "c7702ec1",
   "metadata": {},
   "outputs": [
    {
     "data": {
      "text/plain": [
       "array([0.97673281, 0.97673281, 0.97673281, 0.99103437])"
      ]
     },
     "execution_count": 18,
     "metadata": {},
     "output_type": "execute_result"
    }
   ],
   "source": [
    "np.mean(accuracies, axis = 0) "
   ]
  },
  {
   "cell_type": "code",
   "execution_count": 19,
   "id": "fe955322",
   "metadata": {},
   "outputs": [
    {
     "data": {
      "text/plain": [
       "array([0.00110581, 0.00110581, 0.00110581, 0.00122759])"
      ]
     },
     "execution_count": 19,
     "metadata": {},
     "output_type": "execute_result"
    }
   ],
   "source": [
    "np.std(accuracies, axis = 0)"
   ]
  },
  {
   "cell_type": "code",
   "execution_count": 14,
   "id": "ecf81579",
   "metadata": {},
   "outputs": [
    {
     "data": {
      "text/plain": [
       "array([[0.99304724, 0.00695276],\n",
       "       [0.99255952, 0.00744048],\n",
       "       [0.98393082, 0.01606918],\n",
       "       [0.98760301, 0.01239699],\n",
       "       [0.99867276, 0.00132724]])"
      ]
     },
     "execution_count": 14,
     "metadata": {},
     "output_type": "execute_result"
    }
   ],
   "source": [
    "y_test_prob[:5,:]"
   ]
  },
  {
   "cell_type": "code",
   "execution_count": 15,
   "id": "80a3eb58",
   "metadata": {},
   "outputs": [],
   "source": [
    "from sklearn.linear_model import LogisticRegression\n",
    "train_distances = svm.decision_function(X_train_scaled)\n",
    "model = LogisticRegression(max_iter=500)\n",
    "model.fit(train_distances.reshape(-1, 1), y_train)\n",
    "tmp = model.predict_proba(distances.reshape(-1, 1))"
   ]
  },
  {
   "cell_type": "code",
   "execution_count": 16,
   "id": "d838f253",
   "metadata": {},
   "outputs": [
    {
     "data": {
      "text/plain": [
       "array([[9.99433971e-01, 5.66028981e-04],\n",
       "       [9.99398219e-01, 6.01780725e-04],\n",
       "       [9.99396966e-01, 6.03034044e-04],\n",
       "       [9.99240384e-01, 7.59616290e-04],\n",
       "       [9.99750384e-01, 2.49615563e-04]])"
      ]
     },
     "execution_count": 16,
     "metadata": {},
     "output_type": "execute_result"
    }
   ],
   "source": [
    "tmp[:5,:]"
   ]
  },
  {
   "cell_type": "code",
   "execution_count": 17,
   "id": "f927858e",
   "metadata": {},
   "outputs": [
    {
     "data": {
      "text/plain": [
       "0.991328125"
      ]
     },
     "execution_count": 17,
     "metadata": {},
     "output_type": "execute_result"
    }
   ],
   "source": [
    "tmp1 = np.where(tmp[:,1] > 0.5, 1, 0)\n",
    "accuracy_score(y_test, tmp1)"
   ]
  },
  {
   "cell_type": "code",
   "execution_count": null,
   "id": "a53f19e1",
   "metadata": {},
   "outputs": [],
   "source": []
  }
 ],
 "metadata": {
  "kernelspec": {
   "display_name": "Python 3 (ipykernel)",
   "language": "python",
   "name": "python3"
  },
  "language_info": {
   "codemirror_mode": {
    "name": "ipython",
    "version": 3
   },
   "file_extension": ".py",
   "mimetype": "text/x-python",
   "name": "python",
   "nbconvert_exporter": "python",
   "pygments_lexer": "ipython3",
   "version": "3.10.9"
  }
 },
 "nbformat": 4,
 "nbformat_minor": 5
}
