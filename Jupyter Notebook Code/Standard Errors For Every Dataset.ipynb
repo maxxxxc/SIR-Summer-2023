{
 "cells": [
  {
   "cell_type": "code",
   "execution_count": 112,
   "id": "052c0562",
   "metadata": {},
   "outputs": [],
   "source": [
    "import numpy as np"
   ]
  },
  {
   "cell_type": "code",
   "execution_count": 113,
   "id": "b9f533f1",
   "metadata": {},
   "outputs": [
    {
     "name": "stdout",
     "output_type": "stream",
     "text": [
      "96.21651440000001\n",
      "96.21651440000001\n",
      "95.96156764\n",
      "95.96042606\n",
      "96.2309741\n",
      "96.23287666\n",
      "94.00190256\n"
     ]
    }
   ],
   "source": [
    "# Load your data from the .dat file\n",
    "file_path = r\"C:\\Users\\panda\\My Drive\\Research\\SIR Summer 2023\\Output Results\\Weighted + AUC Output Logistic Regression\\Weighted_MNIST_Logistic_Regression.dat\"\n",
    "data = []\n",
    "with open(file_path, 'r') as file:\n",
    "        for line in file:\n",
    "            # Split the line into individual data points based on a delimiter (e.g., space or comma)\n",
    "            data_points = line.strip().split()  # Change the split delimiter as needed\n",
    "            \n",
    "            # Convert each data point to the appropriate type if needed\n",
    "            for data_point in data_points:\n",
    "                data.append(float(data_point))  # Use int() for integers\n",
    "\n",
    "num_columns = 7  # Get the number of columns in the data\n",
    "\n",
    "rows = 0\n",
    "cols = 7\n",
    "\n",
    "# Initialize a 2D array with empty lists for each column\n",
    "multidimensional_array = [[] for _ in range(cols)]\n",
    "\n",
    "standard_errors = []  # Create an empty list to store the standard errors\n",
    "    \n",
    "for i in range(len(data)):\n",
    "    index = i % 7\n",
    "    multidimensional_array[index].append(data[i])\n",
    "\n",
    "\n",
    "for column_index in range(num_columns):\n",
    "    column_data = multidimensional_array[column_index]  # Get data for the current column\n",
    "    standard_error = 100 * np.std(column_data) #/ np.sqrt(len(column_data))\n",
    "    mean = 100 * np.mean(column_data)\n",
    "    print(mean)\n",
    "    standard_errors.append(standard_error)"
   ]
  },
  {
   "cell_type": "code",
   "execution_count": 111,
   "id": "b5a5c5e3",
   "metadata": {},
   "outputs": [
    {
     "name": "stdout",
     "output_type": "stream",
     "text": [
      "[0.5800716508796784, 0.5800716508796784, 2.089593881634058, 2.08586705876419, 0.5767212768111002, 0.5754911660670287, 0.48361715626132384]\n"
     ]
    }
   ],
   "source": [
    "print(standard_errors)"
   ]
  },
  {
   "cell_type": "code",
   "execution_count": 109,
   "id": "85c1f3ff",
   "metadata": {},
   "outputs": [
    {
     "data": {
      "text/plain": [
       "array([0.92767857, 0.91642857, 0.93107143, 0.91732143, 0.91267857,\n",
       "       0.91410714, 0.92535714, 0.91892857, 0.92696429, 0.92214286,\n",
       "       0.92357143, 0.91571429, 0.91553571, 0.93321429, 0.92714286,\n",
       "       0.91107143, 0.91875   , 0.91607143, 0.91607143, 0.92392857,\n",
       "       0.92464286, 0.92482143, 0.92035714, 0.91410714, 0.92214286,\n",
       "       0.92535714, 0.92767857, 0.92339286, 0.92625   , 0.92375   ,\n",
       "       0.91267857, 0.91446429, 0.90160714, 0.91767857, 0.9125    ,\n",
       "       0.90678571, 0.91035714, 0.92303571, 0.92553571, 0.92607143,\n",
       "       0.92392857, 0.93267857, 0.91196429, 0.92553571, 0.92892857,\n",
       "       0.91821429, 0.91160714, 0.91714286, 0.90678571, 0.91357143])"
      ]
     },
     "execution_count": 109,
     "metadata": {},
     "output_type": "execute_result"
    }
   ],
   "source": [
    "np.mean(multidimensional_array, axis = 0) "
   ]
  },
  {
   "cell_type": "code",
   "execution_count": null,
   "id": "971edb5c",
   "metadata": {},
   "outputs": [],
   "source": []
  }
 ],
 "metadata": {
  "kernelspec": {
   "display_name": "Python 3 (ipykernel)",
   "language": "python",
   "name": "python3"
  },
  "language_info": {
   "codemirror_mode": {
    "name": "ipython",
    "version": 3
   },
   "file_extension": ".py",
   "mimetype": "text/x-python",
   "name": "python",
   "nbconvert_exporter": "python",
   "pygments_lexer": "ipython3",
   "version": "3.11.4"
  }
 },
 "nbformat": 4,
 "nbformat_minor": 5
}
