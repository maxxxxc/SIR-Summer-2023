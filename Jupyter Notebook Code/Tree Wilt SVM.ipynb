{
 "cells": [
  {
   "cell_type": "code",
   "execution_count": 2,
   "id": "9421c01e",
   "metadata": {},
   "outputs": [],
   "source": [
    "import pandas as pd\n",
    "import numpy as np\n",
    "from sklearn.model_selection import train_test_split\n",
    "from sklearn.metrics import accuracy_score\n",
    "from sklearn.preprocessing import StandardScaler\n",
    "from sklearn.metrics import confusion_matrix\n",
    "from sklearn.model_selection import GridSearchCV\n",
    "from sklearn.svm import SVC"
   ]
  },
  {
   "cell_type": "code",
   "execution_count": 3,
   "id": "5b382675",
   "metadata": {},
   "outputs": [
    {
     "data": {
      "text/plain": [
       "0    4578\n",
       "1     261\n",
       "Name: 0, dtype: int64"
      ]
     },
     "execution_count": 3,
     "metadata": {},
     "output_type": "execute_result"
    }
   ],
   "source": [
    "url = \"https://raw.githubusercontent.com/maxxxxc/SIR-Summer-2023/main/dataset/Wilt%20Dataset.csv\"\n",
    "df = pd.read_csv(url, header = None)\n",
    "\n",
    "X = df.drop(0, axis=1)\n",
    "y = df[0]\n",
    "\n",
    "y.value_counts()"
   ]
  },
  {
   "cell_type": "code",
   "execution_count": 4,
   "id": "7ad36cc1",
   "metadata": {},
   "outputs": [],
   "source": [
    "#divide"
   ]
  },
  {
   "cell_type": "code",
   "execution_count": 5,
   "id": "8b00dd6a",
   "metadata": {},
   "outputs": [],
   "source": [
    "X_train, X_test, y_train, y_test = train_test_split(X, y, test_size=0.4, random_state=42)"
   ]
  },
  {
   "cell_type": "code",
   "execution_count": 6,
   "id": "76e9aa29",
   "metadata": {},
   "outputs": [],
   "source": [
    "scaler = StandardScaler()\n",
    "X_train_scaled = scaler.fit_transform(X_train)\n",
    "X_test_scaled = scaler.transform(X_test)"
   ]
  },
  {
   "cell_type": "code",
   "execution_count": 7,
   "id": "8b2271e1",
   "metadata": {},
   "outputs": [],
   "source": [
    "#param_grid = {'C': [0.1, 1, 10], 'gamma': [0.1, 1, 10]}\n",
    "#svm = SVC(kernel='rbf')\n",
    "\n",
    "#grid_search = GridSearchCV(svm, param_grid, cv=5)\n",
    "#grid_search.fit(X_train_scaled, y_train)\n",
    "\n",
    "#best_params = grid_search.best_params_\n",
    "#best_C = best_params['C']\n",
    "#best_gamma = best_params['gamma']\n",
    "\n",
    "best_C = 1\n",
    "best_gamma = 1\n",
    "\n",
    "#Fit the SVM with the best parameters:\n",
    "svm = SVC(kernel='rbf', C=best_C, gamma=best_gamma)"
   ]
  },
  {
   "cell_type": "code",
   "execution_count": 8,
   "id": "56e67f42",
   "metadata": {},
   "outputs": [
    {
     "data": {
      "text/html": [
       "<style>#sk-container-id-1 {color: black;background-color: white;}#sk-container-id-1 pre{padding: 0;}#sk-container-id-1 div.sk-toggleable {background-color: white;}#sk-container-id-1 label.sk-toggleable__label {cursor: pointer;display: block;width: 100%;margin-bottom: 0;padding: 0.3em;box-sizing: border-box;text-align: center;}#sk-container-id-1 label.sk-toggleable__label-arrow:before {content: \"▸\";float: left;margin-right: 0.25em;color: #696969;}#sk-container-id-1 label.sk-toggleable__label-arrow:hover:before {color: black;}#sk-container-id-1 div.sk-estimator:hover label.sk-toggleable__label-arrow:before {color: black;}#sk-container-id-1 div.sk-toggleable__content {max-height: 0;max-width: 0;overflow: hidden;text-align: left;background-color: #f0f8ff;}#sk-container-id-1 div.sk-toggleable__content pre {margin: 0.2em;color: black;border-radius: 0.25em;background-color: #f0f8ff;}#sk-container-id-1 input.sk-toggleable__control:checked~div.sk-toggleable__content {max-height: 200px;max-width: 100%;overflow: auto;}#sk-container-id-1 input.sk-toggleable__control:checked~label.sk-toggleable__label-arrow:before {content: \"▾\";}#sk-container-id-1 div.sk-estimator input.sk-toggleable__control:checked~label.sk-toggleable__label {background-color: #d4ebff;}#sk-container-id-1 div.sk-label input.sk-toggleable__control:checked~label.sk-toggleable__label {background-color: #d4ebff;}#sk-container-id-1 input.sk-hidden--visually {border: 0;clip: rect(1px 1px 1px 1px);clip: rect(1px, 1px, 1px, 1px);height: 1px;margin: -1px;overflow: hidden;padding: 0;position: absolute;width: 1px;}#sk-container-id-1 div.sk-estimator {font-family: monospace;background-color: #f0f8ff;border: 1px dotted black;border-radius: 0.25em;box-sizing: border-box;margin-bottom: 0.5em;}#sk-container-id-1 div.sk-estimator:hover {background-color: #d4ebff;}#sk-container-id-1 div.sk-parallel-item::after {content: \"\";width: 100%;border-bottom: 1px solid gray;flex-grow: 1;}#sk-container-id-1 div.sk-label:hover label.sk-toggleable__label {background-color: #d4ebff;}#sk-container-id-1 div.sk-serial::before {content: \"\";position: absolute;border-left: 1px solid gray;box-sizing: border-box;top: 0;bottom: 0;left: 50%;z-index: 0;}#sk-container-id-1 div.sk-serial {display: flex;flex-direction: column;align-items: center;background-color: white;padding-right: 0.2em;padding-left: 0.2em;position: relative;}#sk-container-id-1 div.sk-item {position: relative;z-index: 1;}#sk-container-id-1 div.sk-parallel {display: flex;align-items: stretch;justify-content: center;background-color: white;position: relative;}#sk-container-id-1 div.sk-item::before, #sk-container-id-1 div.sk-parallel-item::before {content: \"\";position: absolute;border-left: 1px solid gray;box-sizing: border-box;top: 0;bottom: 0;left: 50%;z-index: -1;}#sk-container-id-1 div.sk-parallel-item {display: flex;flex-direction: column;z-index: 1;position: relative;background-color: white;}#sk-container-id-1 div.sk-parallel-item:first-child::after {align-self: flex-end;width: 50%;}#sk-container-id-1 div.sk-parallel-item:last-child::after {align-self: flex-start;width: 50%;}#sk-container-id-1 div.sk-parallel-item:only-child::after {width: 0;}#sk-container-id-1 div.sk-dashed-wrapped {border: 1px dashed gray;margin: 0 0.4em 0.5em 0.4em;box-sizing: border-box;padding-bottom: 0.4em;background-color: white;}#sk-container-id-1 div.sk-label label {font-family: monospace;font-weight: bold;display: inline-block;line-height: 1.2em;}#sk-container-id-1 div.sk-label-container {text-align: center;}#sk-container-id-1 div.sk-container {/* jupyter's `normalize.less` sets `[hidden] { display: none; }` but bootstrap.min.css set `[hidden] { display: none !important; }` so we also need the `!important` here to be able to override the default hidden behavior on the sphinx rendered scikit-learn.org. See: https://github.com/scikit-learn/scikit-learn/issues/21755 */display: inline-block !important;position: relative;}#sk-container-id-1 div.sk-text-repr-fallback {display: none;}</style><div id=\"sk-container-id-1\" class=\"sk-top-container\"><div class=\"sk-text-repr-fallback\"><pre>SVC(C=1, gamma=1)</pre><b>In a Jupyter environment, please rerun this cell to show the HTML representation or trust the notebook. <br />On GitHub, the HTML representation is unable to render, please try loading this page with nbviewer.org.</b></div><div class=\"sk-container\" hidden><div class=\"sk-item\"><div class=\"sk-estimator sk-toggleable\"><input class=\"sk-toggleable__control sk-hidden--visually\" id=\"sk-estimator-id-1\" type=\"checkbox\" checked><label for=\"sk-estimator-id-1\" class=\"sk-toggleable__label sk-toggleable__label-arrow\">SVC</label><div class=\"sk-toggleable__content\"><pre>SVC(C=1, gamma=1)</pre></div></div></div></div></div>"
      ],
      "text/plain": [
       "SVC(C=1, gamma=1)"
      ]
     },
     "execution_count": 8,
     "metadata": {},
     "output_type": "execute_result"
    }
   ],
   "source": [
    "svm.fit(X_train_scaled, y_train)"
   ]
  },
  {
   "cell_type": "code",
   "execution_count": 9,
   "id": "cd42742e",
   "metadata": {},
   "outputs": [
    {
     "name": "stdout",
     "output_type": "stream",
     "text": [
      "Test Accuracy: 0.9757231404958677\n",
      "Match between Prediction and Rule based on Distance\n"
     ]
    },
    {
     "data": {
      "text/plain": [
       "1.0"
      ]
     },
     "execution_count": 9,
     "metadata": {},
     "output_type": "execute_result"
    }
   ],
   "source": [
    "# Make predictions on the test set\n",
    "y_test_pred = svm.predict(X_test_scaled)\n",
    "\n",
    "# Calculate accuracy\n",
    "accuracy = accuracy_score(y_test, y_test_pred)\n",
    "print(\"Test Accuracy:\", accuracy)\n",
    "\n",
    "# Prediction rule is essentially: 1 if distance > 0\n",
    "distances = svm.decision_function(X_test_scaled)\n",
    "tmp = np.where(distances > 0, 1, 0)\n",
    "print(\"Match between Prediction and Rule based on Distance\")\n",
    "accuracy_score(tmp, y_test_pred)"
   ]
  },
  {
   "cell_type": "code",
   "execution_count": 10,
   "id": "fbe4ace5",
   "metadata": {},
   "outputs": [],
   "source": [
    "from sklearn.calibration import CalibratedClassifierCV"
   ]
  },
  {
   "cell_type": "code",
   "execution_count": 11,
   "id": "68347644",
   "metadata": {},
   "outputs": [],
   "source": [
    "svm_platt = CalibratedClassifierCV(svm)\n",
    "svm_platt.fit(X_train_scaled, y_train)\n",
    "y_test_prob = svm_platt.predict_proba(X_test_scaled)"
   ]
  },
  {
   "cell_type": "code",
   "execution_count": 12,
   "id": "0f7ab1c2",
   "metadata": {},
   "outputs": [
    {
     "data": {
      "text/plain": [
       "0.9783057851239669"
      ]
     },
     "execution_count": 12,
     "metadata": {},
     "output_type": "execute_result"
    }
   ],
   "source": [
    "y_test_pred = np.where(y_test_prob[:,1] > 0.5, 1, 0)\n",
    "accuracy_score(y_test, y_test_pred)"
   ]
  },
  {
   "cell_type": "code",
   "execution_count": 13,
   "id": "9ee03d5b",
   "metadata": {},
   "outputs": [],
   "source": [
    "def svm_iterate_process(X, y):\n",
    "    # Split the data into train and test sets\n",
    "    X_train, X_test, y_train, y_test = train_test_split(X, y, test_size=0.4)\n",
    "    \n",
    "    # Define the number of batches\n",
    "    num_batches = 11\n",
    "    \n",
    "    # Randomly shuffle the data indices\n",
    "    indices = np.random.permutation(len(X_train))\n",
    "    \n",
    "    # Calculate the batch size\n",
    "    batch_size = len(X_train) // num_batches\n",
    "    \n",
    "    # Make predictions on the test set using majority voting\n",
    "    preds_voting = np.zeros(len(y_test))\n",
    "    # Make predictions on the test set using average of logit\n",
    "    preds_distance = np.zeros(len(y_test))\n",
    "    #Make predictions on the test set using average of probs\n",
    "    preds_prob = np.zeros(len(y_test))\n",
    "\n",
    "    \n",
    "    # Split the training data into batches, fit a logistic regression model on each batch\n",
    "    for i in range(num_batches):\n",
    "        # Calculate the starting and ending indices for the current batch\n",
    "        start_index = i * batch_size\n",
    "        end_index = (i + 1) * batch_size\n",
    "        \n",
    "        # Select the current batch for training\n",
    "        X_batch = X_train.iloc[indices[start_index:end_index]]\n",
    "        y_batch = y_train.iloc[indices[start_index:end_index]]\n",
    "        \n",
    "        scaler = StandardScaler()\n",
    "        X_batch_scaled = scaler.fit_transform(X_batch)\n",
    "        X_test_scaled = scaler.transform(X_test)\n",
    "        \n",
    "        \n",
    "        # Create a support vector machine model\n",
    "        param_grid = {'C': [0.1, 1, 10], 'gamma': [0.1, 1, 10]}\n",
    "        svm = SVC(kernel='rbf')\n",
    "\n",
    "        grid_search = GridSearchCV(svm, param_grid, cv=5)\n",
    "        grid_search.fit(X_batch_scaled, y_batch)\n",
    "\n",
    "        best_params = grid_search.best_params_\n",
    "        best_C = best_params['C']\n",
    "        best_gamma = best_params['gamma']\n",
    "        svm = SVC(kernel='rbf', C=best_C, gamma=best_gamma)\n",
    "        \n",
    "        # Fit the model on the current batch\n",
    "        svm.fit(X_batch_scaled, y_batch)\n",
    "        \n",
    "               \n",
    "        # Accumulate the predictions using majority voting\n",
    "        y_pred = svm.predict(X_test_scaled)\n",
    "        preds_voting += (y_pred == 1)\n",
    "\n",
    "    \n",
    "        # Accumulate the predictions using majority voting\n",
    "        y_pred = svm.decision_function(X_test_scaled)\n",
    "        preds_distance += y_pred\n",
    "        \n",
    "        \n",
    "        #Accumulate the probs\n",
    "        svm_platt = CalibratedClassifierCV(svm)\n",
    "        svm_platt.fit(X_batch_scaled, y_batch)\n",
    "        y_pred = svm_platt.predict_proba(X_test_scaled)\n",
    "        preds_prob += y_pred[:,1]\n",
    "   \n",
    "    \n",
    "    accuracy = np.zeros(4)\n",
    "    \n",
    "    # Majority voting (selecting the most frequent prediction for each sample)\n",
    "    final_predictions = np.where(preds_voting > num_batches / 2, 1, 0)\n",
    "    accuracy[0] = accuracy_score(y_test, final_predictions)\n",
    "    # Average of logit\n",
    "    final_predictions = np.where(preds_distance > 0, 1, 0)\n",
    "    accuracy[1] = accuracy_score(y_test, final_predictions)\n",
    "    #Average of probs\n",
    "    final_predictions = np.where(preds_prob / num_batches > 0.5, 1, 0)\n",
    "    accuracy[2] = accuracy_score(y_test, final_predictions)\n",
    "    \n",
    "    # Train a model on all 11 batches of training data\n",
    "    \n",
    "    scaler = StandardScaler()\n",
    "    X_train_scaled = scaler.fit_transform(X_train)\n",
    "    X_test_scaled = scaler.transform(X_test)\n",
    "    \n",
    "    param_grid = {'C': [0.1, 1, 10], 'gamma': [0.1, 1, 10]}\n",
    "    svm = SVC(kernel='rbf')\n",
    "\n",
    "    grid_search = GridSearchCV(svm, param_grid, cv=5)\n",
    "    grid_search.fit(X_train_scaled, y_train)\n",
    "\n",
    "    best_params = grid_search.best_params_\n",
    "    best_C = best_params['C']\n",
    "    best_gamma = best_params['gamma']\n",
    "    svm = SVC(kernel='rbf', C=best_C, gamma=best_gamma)\n",
    "    \n",
    "    svm.fit(X_train_scaled, y_train)\n",
    "    y_pred = svm.predict(X_test_scaled)\n",
    "    accuracy[3] = accuracy_score(y_test, y_pred)\n",
    "    \n",
    "    return accuracy"
   ]
  },
  {
   "cell_type": "code",
   "execution_count": 14,
   "id": "9674cdae",
   "metadata": {},
   "outputs": [
    {
     "name": "stdout",
     "output_type": "stream",
     "text": [
      "Accuracies: [[0.97365702 0.97417355 0.96900826 0.98192149]\n",
      " [0.98088843 0.97727273 0.97727273 0.98966942]\n",
      " [0.97365702 0.97365702 0.96539256 0.98347107]\n",
      " [0.96745868 0.96694215 0.96229339 0.98605372]\n",
      " [0.96952479 0.96952479 0.96280992 0.98295455]\n",
      " [0.97623967 0.9767562  0.96745868 0.98657025]\n",
      " [0.97727273 0.9731405  0.96952479 0.98553719]\n",
      " [0.97417355 0.97262397 0.96539256 0.98760331]\n",
      " [0.97623967 0.97572314 0.97469008 0.98863636]\n",
      " [0.97469008 0.9731405  0.96900826 0.98657025]\n",
      " [0.98192149 0.98243802 0.97933884 0.99173554]\n",
      " [0.97469008 0.97262397 0.96694215 0.98708678]\n",
      " [0.96590909 0.96952479 0.96177686 0.98140496]\n",
      " [0.97107438 0.97107438 0.96384298 0.98811983]\n",
      " [0.96745868 0.9643595  0.9607438  0.98450413]\n",
      " [0.97933884 0.97727273 0.97055785 0.98863636]\n",
      " [0.97520661 0.9731405  0.97262397 0.98708678]\n",
      " [0.96642562 0.96694215 0.9607438  0.98295455]\n",
      " [0.98295455 0.97882231 0.97159091 0.98657025]\n",
      " [0.97572314 0.97623967 0.96745868 0.98863636]\n",
      " [0.96642562 0.96332645 0.95867769 0.9803719 ]\n",
      " [0.97004132 0.97107438 0.96332645 0.98553719]\n",
      " [0.97365702 0.97210744 0.96487603 0.98295455]\n",
      " [0.96849174 0.96745868 0.96539256 0.98502066]\n",
      " [0.97262397 0.97159091 0.96797521 0.98553719]\n",
      " [0.96849174 0.96797521 0.96539256 0.98708678]\n",
      " [0.98140496 0.97985537 0.97727273 0.98760331]\n",
      " [0.96694215 0.96849174 0.96384298 0.98502066]\n",
      " [0.97055785 0.97210744 0.96797521 0.98657025]\n",
      " [0.97830579 0.97623967 0.96487603 0.98605372]\n",
      " [0.97159091 0.97107438 0.96126033 0.9839876 ]\n",
      " [0.97572314 0.97107438 0.96900826 0.98605372]\n",
      " [0.96952479 0.96797521 0.96126033 0.98553719]\n",
      " [0.97107438 0.97159091 0.96849174 0.98243802]\n",
      " [0.97159091 0.97055785 0.97004132 0.98708678]\n",
      " [0.97623967 0.9731405  0.97210744 0.98760331]\n",
      " [0.97572314 0.97520661 0.97107438 0.98553719]\n",
      " [0.97469008 0.97417355 0.97262397 0.98966942]\n",
      " [0.9767562  0.97417355 0.96694215 0.98450413]\n",
      " [0.97417355 0.97365702 0.96332645 0.98450413]\n",
      " [0.96849174 0.97055785 0.96280992 0.98450413]\n",
      " [0.97417355 0.97623967 0.96487603 0.98863636]\n",
      " [0.9767562  0.97520661 0.96952479 0.98553719]\n",
      " [0.96952479 0.97107438 0.96332645 0.98295455]\n",
      " [0.97159091 0.97159091 0.96332645 0.98553719]\n",
      " [0.97572314 0.9731405  0.97004132 0.98295455]\n",
      " [0.97107438 0.96797521 0.96745868 0.9839876 ]\n",
      " [0.97520661 0.97572314 0.96952479 0.98657025]\n",
      " [0.9731405  0.97107438 0.96229339 0.98553719]\n",
      " [0.97572314 0.97469008 0.96797521 0.98243802]]\n"
     ]
    }
   ],
   "source": [
    "# Number of times to repeat the process\n",
    "num_repeats = 50\n",
    "\n",
    "# Initialize an empty matrix (10-by-4) to store accuracies\n",
    "accuracies = np.zeros((num_repeats, 4))\n",
    "\n",
    "seed = 42\n",
    "# Repeat the process and store accuracies\n",
    "for i in range(num_repeats):\n",
    "    np.random.seed(seed)\n",
    "    accuracies[i] = svm_iterate_process(X, y)\n",
    "    seed += 2\n",
    "    \n",
    "\n",
    "# Print the accuracies\n",
    "print(\"Accuracies:\", accuracies)"
   ]
  },
  {
   "cell_type": "code",
   "execution_count": 19,
   "id": "211a9eb6",
   "metadata": {},
   "outputs": [
    {
     "data": {
      "text/plain": [
       "array([0.97339876, 0.97251033, 0.96710744, 0.98566116])"
      ]
     },
     "execution_count": 19,
     "metadata": {},
     "output_type": "execute_result"
    }
   ],
   "source": [
    "np.mean(accuracies, axis = 0) "
   ]
  },
  {
   "cell_type": "code",
   "execution_count": 20,
   "id": "39ed95d7",
   "metadata": {},
   "outputs": [
    {
     "data": {
      "text/plain": [
       "array([0.00418261, 0.0037608 , 0.00454949, 0.0023182 ])"
      ]
     },
     "execution_count": 20,
     "metadata": {},
     "output_type": "execute_result"
    }
   ],
   "source": [
    "np.std(accuracies, axis = 0)"
   ]
  },
  {
   "cell_type": "code",
   "execution_count": 15,
   "id": "ecf81579",
   "metadata": {},
   "outputs": [
    {
     "data": {
      "text/plain": [
       "array([[0.99256942, 0.00743058],\n",
       "       [0.99253385, 0.00746615],\n",
       "       [0.98578364, 0.01421636],\n",
       "       [0.99656636, 0.00343364],\n",
       "       [0.98924084, 0.01075916]])"
      ]
     },
     "execution_count": 15,
     "metadata": {},
     "output_type": "execute_result"
    }
   ],
   "source": [
    "y_test_prob[:5,:]"
   ]
  },
  {
   "cell_type": "code",
   "execution_count": 16,
   "id": "80a3eb58",
   "metadata": {},
   "outputs": [],
   "source": [
    "from sklearn.linear_model import LogisticRegression\n",
    "train_distances = svm.decision_function(X_train_scaled)\n",
    "model = LogisticRegression(max_iter=500)\n",
    "model.fit(train_distances.reshape(-1, 1), y_train)\n",
    "tmp = model.predict_proba(distances.reshape(-1, 1))"
   ]
  },
  {
   "cell_type": "code",
   "execution_count": 17,
   "id": "d838f253",
   "metadata": {},
   "outputs": [
    {
     "data": {
      "text/plain": [
       "array([[9.95072836e-01, 4.92716360e-03],\n",
       "       [9.97095054e-01, 2.90494622e-03],\n",
       "       [9.89613909e-01, 1.03860913e-02],\n",
       "       [9.99040392e-01, 9.59607538e-04],\n",
       "       [9.91580005e-01, 8.41999512e-03]])"
      ]
     },
     "execution_count": 17,
     "metadata": {},
     "output_type": "execute_result"
    }
   ],
   "source": [
    "tmp[:5,:]"
   ]
  },
  {
   "cell_type": "code",
   "execution_count": 18,
   "id": "f927858e",
   "metadata": {},
   "outputs": [
    {
     "data": {
      "text/plain": [
       "0.9839876033057852"
      ]
     },
     "execution_count": 18,
     "metadata": {},
     "output_type": "execute_result"
    }
   ],
   "source": [
    "tmp1 = np.where(tmp[:,1] > 0.5, 1, 0)\n",
    "accuracy_score(y_test, tmp1)"
   ]
  },
  {
   "cell_type": "code",
   "execution_count": null,
   "id": "9ba4654d",
   "metadata": {},
   "outputs": [],
   "source": []
  }
 ],
 "metadata": {
  "kernelspec": {
   "display_name": "Python 3 (ipykernel)",
   "language": "python",
   "name": "python3"
  },
  "language_info": {
   "codemirror_mode": {
    "name": "ipython",
    "version": 3
   },
   "file_extension": ".py",
   "mimetype": "text/x-python",
   "name": "python",
   "nbconvert_exporter": "python",
   "pygments_lexer": "ipython3",
   "version": "3.10.9"
  }
 },
 "nbformat": 4,
 "nbformat_minor": 5
}
